{
 "cells": [
  {
   "cell_type": "code",
   "execution_count": null,
   "metadata": {},
   "outputs": [],
   "source": [
    "import requests\n",
    "import selenium"
   ]
  },
  {
   "cell_type": "code",
   "execution_count": 26,
   "metadata": {},
   "outputs": [],
   "source": [
    "from selenium import webdriver\n",
    "import time\n",
    "browser = webdriver.Chrome() \n",
    "browser.get('https://dbdb.io/browse?start-min=1964&start-max=2018&q=&letter=%2F')"
   ]
  },
  {
   "cell_type": "code",
   "execution_count": 9,
   "metadata": {},
   "outputs": [],
   "source": [
    "link = browser.find_elements_by_css_selector('.card-title')"
   ]
  },
  {
   "cell_type": "code",
   "execution_count": 28,
   "metadata": {},
   "outputs": [
    {
     "data": {
      "text/plain": [
       "'1010data\\nLast updated June 3, 2018, 10:35 p.m.'"
      ]
     },
     "execution_count": 28,
     "metadata": {},
     "output_type": "execute_result"
    }
   ],
   "source": [
    "link[1].text"
   ]
  },
  {
   "cell_type": "code",
   "execution_count": 32,
   "metadata": {},
   "outputs": [
    {
     "data": {
      "text/plain": [
       "'ZODB'"
      ]
     },
     "execution_count": 32,
     "metadata": {},
     "output_type": "execute_result"
    }
   ],
   "source": [
    "i.text.split(\"\\n\")[0]"
   ]
  },
  {
   "cell_type": "code",
   "execution_count": 34,
   "metadata": {},
   "outputs": [
    {
     "name": "stdout",
     "output_type": "stream",
     "text": [
      "https://dbdb.io/db/ZODB\n"
     ]
    }
   ],
   "source": [
    "print(\"https://dbdb.io/db/\" + i.text.split(\"\\n\")[0])"
   ]
  },
  {
   "cell_type": "code",
   "execution_count": 30,
   "metadata": {},
   "outputs": [
    {
     "data": {
      "text/plain": [
       "str"
      ]
     },
     "execution_count": 30,
     "metadata": {},
     "output_type": "execute_result"
    }
   ],
   "source": [
    "type(i.text)"
   ]
  },
  {
   "cell_type": "code",
   "execution_count": 40,
   "metadata": {},
   "outputs": [],
   "source": [
    "all_link = []\n",
    "for i in link:\n",
    "    sub_link = \"https://dbdb.io/db/\" + i.text.split(\"\\n\")[0]\n",
    "    updated_time = i.text.split(\"\\n\")[1] \n",
    "    all_link.append((sub_link,updated_time))"
   ]
  },
  {
   "cell_type": "code",
   "execution_count": 37,
   "metadata": {},
   "outputs": [],
   "source": [
    "import pandas as pd"
   ]
  },
  {
   "cell_type": "code",
   "execution_count": 43,
   "metadata": {},
   "outputs": [],
   "source": [
    "df_link = pd.DataFrame(all_link, columns = [\"Link\",\"Updated_Date\"])"
   ]
  },
  {
   "cell_type": "code",
   "execution_count": 46,
   "metadata": {},
   "outputs": [
    {
     "data": {
      "text/plain": [
       "0        https://dbdb.io/db//rdb\n",
       "1    https://dbdb.io/db/1010data\n",
       "2      https://dbdb.io/db/3store\n",
       "3      https://dbdb.io/db/4store\n",
       "4       https://dbdb.io/db/abhot\n",
       "Name: Link, dtype: object"
      ]
     },
     "execution_count": 46,
     "metadata": {},
     "output_type": "execute_result"
    }
   ],
   "source": [
    "df_link[\"Link\"].head()"
   ]
  },
  {
   "cell_type": "code",
   "execution_count": 50,
   "metadata": {},
   "outputs": [],
   "source": [
    "df_link.to_csv(\"DBDB_link.csv\")"
   ]
  },
  {
   "cell_type": "code",
   "execution_count": 51,
   "metadata": {},
   "outputs": [
    {
     "name": "stdout",
     "output_type": "stream",
     "text": [
      "\u001b[34mActivities\u001b[m\u001b[m/                           \u001b[34mbin\u001b[m\u001b[m/\r\n",
      "\u001b[34mApplications\u001b[m\u001b[m/                         \u001b[34mdata\u001b[m\u001b[m/\r\n",
      "\u001b[34mAssignment\u001b[m\u001b[m/                           \u001b[34metc\u001b[m\u001b[m/\r\n",
      "ConnectionDB & Pre-dataprocess.ipynb  \u001b[34minclude\u001b[m\u001b[m/\r\n",
      "\u001b[34mCovenantSQL\u001b[m\u001b[m/                          \u001b[34mlib\u001b[m\u001b[m/\r\n",
      "DBDB_link.csv                         pip-selfcheck.json\r\n",
      "\u001b[34mData analysis\u001b[m\u001b[m/                        pyvenv.cfg\r\n",
      "\u001b[34mFinal project\u001b[m\u001b[m/                        \u001b[34mshare\u001b[m\u001b[m/\r\n",
      "Untitled.ipynb                        \u001b[34mvenv\u001b[m\u001b[m/\r\n",
      "Untitled1.ipynb\r\n"
     ]
    }
   ],
   "source": [
    "ls"
   ]
  },
  {
   "cell_type": "code",
   "execution_count": null,
   "metadata": {},
   "outputs": [],
   "source": []
  }
 ],
 "metadata": {
  "kernelspec": {
   "display_name": "Python 3",
   "language": "python",
   "name": "python3"
  },
  "language_info": {
   "codemirror_mode": {
    "name": "ipython",
    "version": 3
   },
   "file_extension": ".py",
   "mimetype": "text/x-python",
   "name": "python",
   "nbconvert_exporter": "python",
   "pygments_lexer": "ipython3",
   "version": "3.6.1"
  }
 },
 "nbformat": 4,
 "nbformat_minor": 2
}
