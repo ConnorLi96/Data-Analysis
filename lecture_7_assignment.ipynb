{
 "cells": [
  {
   "cell_type": "code",
   "execution_count": 4,
   "metadata": {},
   "outputs": [],
   "source": [
    "import os\n",
    "import requests\n",
    "from bs4 import BeautifulSoup\n",
    "import matplotlib.pylab as plt\n",
    "# import utils\n",
    "import warnings \n",
    "warnings.filterwarnings(\"ignore\")\n",
    "import pandas as pd \n"
   ]
  },
  {
   "cell_type": "code",
   "execution_count": 5,
   "metadata": {},
   "outputs": [],
   "source": [
    "import folium"
   ]
  },
  {
   "cell_type": "code",
   "execution_count": 2,
   "metadata": {},
   "outputs": [],
   "source": [
    "grid_plot = pd.read_csv(\"grid_plot.csv\")"
   ]
  },
  {
   "cell_type": "markdown",
   "metadata": {},
   "source": [
    "# Q1a "
   ]
  },
  {
   "cell_type": "code",
   "execution_count": 139,
   "metadata": {},
   "outputs": [],
   "source": [
    "url = 'https://www.glerl.noaa.gov/emf/glcfs/gridded_fields/NCAST/'\n",
    "response = requests.get(url)\n"
   ]
  },
  {
   "cell_type": "code",
   "execution_count": 140,
   "metadata": {},
   "outputs": [],
   "source": [
    "soup = BeautifulSoup(response.text, 'html.parser')"
   ]
  },
  {
   "cell_type": "code",
   "execution_count": 141,
   "metadata": {},
   "outputs": [],
   "source": [
    "table_rows = soup.findAll(\"tr\")"
   ]
  },
  {
   "cell_type": "code",
   "execution_count": 142,
   "metadata": {},
   "outputs": [],
   "source": [
    "table_rows = table_rows[3:-1]"
   ]
  },
  {
   "cell_type": "code",
   "execution_count": null,
   "metadata": {},
   "outputs": [],
   "source": [
    "for table_row in table_rows:\n",
    "    print(table_row)"
   ]
  },
  {
   "cell_type": "markdown",
   "metadata": {},
   "source": [
    "# Q1b\n"
   ]
  },
  {
   "cell_type": "code",
   "execution_count": 144,
   "metadata": {},
   "outputs": [],
   "source": [
    "tmp_list = []\n",
    "for table_row in table_rows:\n",
    "    \n",
    "    table_row_list = table_row.findAll(\"td\")\n",
    "    filename = table_row_list[1].find(\"a\").get(\"href\")\n",
    "    upload_date = table_row_list[2].text.strip()\n",
    "    file_size = table_row_list[3].text.strip()\n",
    "    tmp_list.append((filename, upload_date, file_size))\n"
   ]
  },
  {
   "cell_type": "code",
   "execution_count": 145,
   "metadata": {},
   "outputs": [],
   "source": [
    "noaa_files = pd.DataFrame(tmp_list, columns=[\"filename\", \"upload_date\", \"file_size\"])"
   ]
  },
  {
   "cell_type": "code",
   "execution_count": 146,
   "metadata": {},
   "outputs": [
    {
     "data": {
      "text/html": [
       "<div>\n",
       "<style scoped>\n",
       "    .dataframe tbody tr th:only-of-type {\n",
       "        vertical-align: middle;\n",
       "    }\n",
       "\n",
       "    .dataframe tbody tr th {\n",
       "        vertical-align: top;\n",
       "    }\n",
       "\n",
       "    .dataframe thead th {\n",
       "        text-align: right;\n",
       "    }\n",
       "</style>\n",
       "<table border=\"1\" class=\"dataframe\">\n",
       "  <thead>\n",
       "    <tr style=\"text-align: right;\">\n",
       "      <th></th>\n",
       "      <th>filename</th>\n",
       "      <th>upload_date</th>\n",
       "      <th>file_size</th>\n",
       "    </tr>\n",
       "  </thead>\n",
       "  <tbody>\n",
       "    <tr>\n",
       "      <th>0</th>\n",
       "      <td>bd201835712.1.at</td>\n",
       "      <td>2018-12-23 13:36</td>\n",
       "      <td>239</td>\n",
       "    </tr>\n",
       "    <tr>\n",
       "      <th>1</th>\n",
       "      <td>bd201835712.1.cc</td>\n",
       "      <td>2018-12-23 13:36</td>\n",
       "      <td>239</td>\n",
       "    </tr>\n",
       "    <tr>\n",
       "      <th>2</th>\n",
       "      <td>bd201835712.1.dp</td>\n",
       "      <td>2018-12-23 13:36</td>\n",
       "      <td>239</td>\n",
       "    </tr>\n",
       "    <tr>\n",
       "      <th>3</th>\n",
       "      <td>bd201835712.1.vac</td>\n",
       "      <td>2018-12-23 13:36</td>\n",
       "      <td>263</td>\n",
       "    </tr>\n",
       "    <tr>\n",
       "      <th>4</th>\n",
       "      <td>bd201835712.1.wnd</td>\n",
       "      <td>2018-12-23 13:36</td>\n",
       "      <td>263</td>\n",
       "    </tr>\n",
       "  </tbody>\n",
       "</table>\n",
       "</div>"
      ],
      "text/plain": [
       "            filename       upload_date file_size\n",
       "0   bd201835712.1.at  2018-12-23 13:36       239\n",
       "1   bd201835712.1.cc  2018-12-23 13:36       239\n",
       "2   bd201835712.1.dp  2018-12-23 13:36       239\n",
       "3  bd201835712.1.vac  2018-12-23 13:36       263\n",
       "4  bd201835712.1.wnd  2018-12-23 13:36       263"
      ]
     },
     "execution_count": 146,
     "metadata": {},
     "output_type": "execute_result"
    }
   ],
   "source": [
    "noaa_files.head()"
   ]
  },
  {
   "cell_type": "code",
   "execution_count": 147,
   "metadata": {},
   "outputs": [
    {
     "name": "stdout",
     "output_type": "stream",
     "text": [
      "noaa_files has 1429 rows\n"
     ]
    }
   ],
   "source": [
    "print(\"noaa_files has {} rows\".format(len(noaa_files)))"
   ]
  },
  {
   "cell_type": "markdown",
   "metadata": {},
   "source": [
    "# Q1c\n"
   ]
  },
  {
   "cell_type": "code",
   "execution_count": 148,
   "metadata": {},
   "outputs": [],
   "source": [
    "index_records = []\n",
    "for item in range(len(noaa_files)):\n",
    "    filename = noaa_files.iloc[item, 0]\n",
    "    if \"o\" in filename and \"wav\" in filename:\n",
    "        index_records.append(item)\n",
    "        "
   ]
  },
  {
   "cell_type": "code",
   "execution_count": 149,
   "metadata": {},
   "outputs": [],
   "source": [
    "noaa_files = noaa_files.loc[index_records]"
   ]
  },
  {
   "cell_type": "code",
   "execution_count": 150,
   "metadata": {},
   "outputs": [],
   "source": [
    "noaa_files.reset_index(inplace=True)"
   ]
  },
  {
   "cell_type": "code",
   "execution_count": 151,
   "metadata": {},
   "outputs": [
    {
     "data": {
      "text/html": [
       "<div>\n",
       "<style scoped>\n",
       "    .dataframe tbody tr th:only-of-type {\n",
       "        vertical-align: middle;\n",
       "    }\n",
       "\n",
       "    .dataframe tbody tr th {\n",
       "        vertical-align: top;\n",
       "    }\n",
       "\n",
       "    .dataframe thead th {\n",
       "        text-align: right;\n",
       "    }\n",
       "</style>\n",
       "<table border=\"1\" class=\"dataframe\">\n",
       "  <thead>\n",
       "    <tr style=\"text-align: right;\">\n",
       "      <th></th>\n",
       "      <th>index</th>\n",
       "      <th>filename</th>\n",
       "      <th>upload_date</th>\n",
       "      <th>file_size</th>\n",
       "    </tr>\n",
       "  </thead>\n",
       "  <tbody>\n",
       "    <tr>\n",
       "      <th>0</th>\n",
       "      <td>1049</td>\n",
       "      <td>o202102506.0.wav</td>\n",
       "      <td>2021-01-25 07:24</td>\n",
       "      <td>110K</td>\n",
       "    </tr>\n",
       "    <tr>\n",
       "      <th>1</th>\n",
       "      <td>1055</td>\n",
       "      <td>o202102512.0.wav</td>\n",
       "      <td>2021-01-25 13:24</td>\n",
       "      <td>110K</td>\n",
       "    </tr>\n",
       "    <tr>\n",
       "      <th>2</th>\n",
       "      <td>1061</td>\n",
       "      <td>o202102518.0.wav</td>\n",
       "      <td>2021-01-25 19:23</td>\n",
       "      <td>110K</td>\n",
       "    </tr>\n",
       "    <tr>\n",
       "      <th>3</th>\n",
       "      <td>1067</td>\n",
       "      <td>o202102600.0.wav</td>\n",
       "      <td>2021-01-26 01:23</td>\n",
       "      <td>110K</td>\n",
       "    </tr>\n",
       "    <tr>\n",
       "      <th>4</th>\n",
       "      <td>1073</td>\n",
       "      <td>o202102606.0.wav</td>\n",
       "      <td>2021-01-26 07:23</td>\n",
       "      <td>110K</td>\n",
       "    </tr>\n",
       "    <tr>\n",
       "      <th>5</th>\n",
       "      <td>1079</td>\n",
       "      <td>o202102612.0.wav</td>\n",
       "      <td>2021-01-26 13:23</td>\n",
       "      <td>110K</td>\n",
       "    </tr>\n",
       "    <tr>\n",
       "      <th>6</th>\n",
       "      <td>1085</td>\n",
       "      <td>o202102618.0.wav</td>\n",
       "      <td>2021-01-26 19:23</td>\n",
       "      <td>110K</td>\n",
       "    </tr>\n",
       "    <tr>\n",
       "      <th>7</th>\n",
       "      <td>1091</td>\n",
       "      <td>o202102700.0.wav</td>\n",
       "      <td>2021-01-27 01:23</td>\n",
       "      <td>110K</td>\n",
       "    </tr>\n",
       "    <tr>\n",
       "      <th>8</th>\n",
       "      <td>1097</td>\n",
       "      <td>o202102706.0.wav</td>\n",
       "      <td>2021-01-27 07:23</td>\n",
       "      <td>110K</td>\n",
       "    </tr>\n",
       "    <tr>\n",
       "      <th>9</th>\n",
       "      <td>1103</td>\n",
       "      <td>o202102712.0.wav</td>\n",
       "      <td>2021-01-27 13:23</td>\n",
       "      <td>110K</td>\n",
       "    </tr>\n",
       "  </tbody>\n",
       "</table>\n",
       "</div>"
      ],
      "text/plain": [
       "   index          filename       upload_date file_size\n",
       "0   1049  o202102506.0.wav  2021-01-25 07:24      110K\n",
       "1   1055  o202102512.0.wav  2021-01-25 13:24      110K\n",
       "2   1061  o202102518.0.wav  2021-01-25 19:23      110K\n",
       "3   1067  o202102600.0.wav  2021-01-26 01:23      110K\n",
       "4   1073  o202102606.0.wav  2021-01-26 07:23      110K\n",
       "5   1079  o202102612.0.wav  2021-01-26 13:23      110K\n",
       "6   1085  o202102618.0.wav  2021-01-26 19:23      110K\n",
       "7   1091  o202102700.0.wav  2021-01-27 01:23      110K\n",
       "8   1097  o202102706.0.wav  2021-01-27 07:23      110K\n",
       "9   1103  o202102712.0.wav  2021-01-27 13:23      110K"
      ]
     },
     "execution_count": 151,
     "metadata": {},
     "output_type": "execute_result"
    }
   ],
   "source": [
    "noaa_files.head(10)"
   ]
  },
  {
   "cell_type": "markdown",
   "metadata": {},
   "source": [
    "# Q2a"
   ]
  },
  {
   "cell_type": "code",
   "execution_count": 187,
   "metadata": {},
   "outputs": [
    {
     "data": {
      "text/html": [
       "<div>\n",
       "<style scoped>\n",
       "    .dataframe tbody tr th:only-of-type {\n",
       "        vertical-align: middle;\n",
       "    }\n",
       "\n",
       "    .dataframe tbody tr th {\n",
       "        vertical-align: top;\n",
       "    }\n",
       "\n",
       "    .dataframe thead th {\n",
       "        text-align: right;\n",
       "    }\n",
       "</style>\n",
       "<table border=\"1\" class=\"dataframe\">\n",
       "  <thead>\n",
       "    <tr style=\"text-align: right;\">\n",
       "      <th></th>\n",
       "      <th>filename</th>\n",
       "      <th>year</th>\n",
       "      <th>day</th>\n",
       "      <th>hour</th>\n",
       "      <th>grid_number</th>\n",
       "      <th>wave_height</th>\n",
       "      <th>wave_direction</th>\n",
       "      <th>wave_period</th>\n",
       "    </tr>\n",
       "  </thead>\n",
       "  <tbody>\n",
       "    <tr>\n",
       "      <th>0</th>\n",
       "      <td>o202102506.0.wav</td>\n",
       "      <td>2021</td>\n",
       "      <td>25</td>\n",
       "      <td>7</td>\n",
       "      <td>1</td>\n",
       "      <td>0.319</td>\n",
       "      <td>291</td>\n",
       "      <td>2.3</td>\n",
       "    </tr>\n",
       "    <tr>\n",
       "      <th>1</th>\n",
       "      <td>o202102506.0.wav</td>\n",
       "      <td>2021</td>\n",
       "      <td>25</td>\n",
       "      <td>7</td>\n",
       "      <td>2</td>\n",
       "      <td>0.301</td>\n",
       "      <td>295</td>\n",
       "      <td>2.2</td>\n",
       "    </tr>\n",
       "    <tr>\n",
       "      <th>2</th>\n",
       "      <td>o202102506.0.wav</td>\n",
       "      <td>2021</td>\n",
       "      <td>25</td>\n",
       "      <td>7</td>\n",
       "      <td>3</td>\n",
       "      <td>0.266</td>\n",
       "      <td>297</td>\n",
       "      <td>2.1</td>\n",
       "    </tr>\n",
       "    <tr>\n",
       "      <th>3</th>\n",
       "      <td>o202102506.0.wav</td>\n",
       "      <td>2021</td>\n",
       "      <td>25</td>\n",
       "      <td>7</td>\n",
       "      <td>4</td>\n",
       "      <td>0.202</td>\n",
       "      <td>298</td>\n",
       "      <td>1.8</td>\n",
       "    </tr>\n",
       "    <tr>\n",
       "      <th>4</th>\n",
       "      <td>o202102506.0.wav</td>\n",
       "      <td>2021</td>\n",
       "      <td>25</td>\n",
       "      <td>7</td>\n",
       "      <td>5</td>\n",
       "      <td>0.307</td>\n",
       "      <td>291</td>\n",
       "      <td>2.3</td>\n",
       "    </tr>\n",
       "    <tr>\n",
       "      <th>5</th>\n",
       "      <td>o202102506.0.wav</td>\n",
       "      <td>2021</td>\n",
       "      <td>25</td>\n",
       "      <td>7</td>\n",
       "      <td>6</td>\n",
       "      <td>0.323</td>\n",
       "      <td>294</td>\n",
       "      <td>2.4</td>\n",
       "    </tr>\n",
       "    <tr>\n",
       "      <th>6</th>\n",
       "      <td>o202102506.0.wav</td>\n",
       "      <td>2021</td>\n",
       "      <td>25</td>\n",
       "      <td>7</td>\n",
       "      <td>7</td>\n",
       "      <td>0.342</td>\n",
       "      <td>297</td>\n",
       "      <td>2.4</td>\n",
       "    </tr>\n",
       "    <tr>\n",
       "      <th>7</th>\n",
       "      <td>o202102506.0.wav</td>\n",
       "      <td>2021</td>\n",
       "      <td>25</td>\n",
       "      <td>7</td>\n",
       "      <td>8</td>\n",
       "      <td>0.369</td>\n",
       "      <td>300</td>\n",
       "      <td>2.5</td>\n",
       "    </tr>\n",
       "    <tr>\n",
       "      <th>8</th>\n",
       "      <td>o202102506.0.wav</td>\n",
       "      <td>2021</td>\n",
       "      <td>25</td>\n",
       "      <td>7</td>\n",
       "      <td>9</td>\n",
       "      <td>0.344</td>\n",
       "      <td>305</td>\n",
       "      <td>2.4</td>\n",
       "    </tr>\n",
       "    <tr>\n",
       "      <th>9</th>\n",
       "      <td>o202102506.0.wav</td>\n",
       "      <td>2021</td>\n",
       "      <td>25</td>\n",
       "      <td>7</td>\n",
       "      <td>10</td>\n",
       "      <td>0.321</td>\n",
       "      <td>306</td>\n",
       "      <td>2.3</td>\n",
       "    </tr>\n",
       "  </tbody>\n",
       "</table>\n",
       "</div>"
      ],
      "text/plain": [
       "           filename  year  day  hour grid_number wave_height wave_direction  \\\n",
       "0  o202102506.0.wav  2021   25     7           1       0.319            291   \n",
       "1  o202102506.0.wav  2021   25     7           2       0.301            295   \n",
       "2  o202102506.0.wav  2021   25     7           3       0.266            297   \n",
       "3  o202102506.0.wav  2021   25     7           4       0.202            298   \n",
       "4  o202102506.0.wav  2021   25     7           5       0.307            291   \n",
       "5  o202102506.0.wav  2021   25     7           6       0.323            294   \n",
       "6  o202102506.0.wav  2021   25     7           7       0.342            297   \n",
       "7  o202102506.0.wav  2021   25     7           8       0.369            300   \n",
       "8  o202102506.0.wav  2021   25     7           9       0.344            305   \n",
       "9  o202102506.0.wav  2021   25     7          10       0.321            306   \n",
       "\n",
       "  wave_period  \n",
       "0         2.3  \n",
       "1         2.2  \n",
       "2         2.1  \n",
       "3         1.8  \n",
       "4         2.3  \n",
       "5         2.4  \n",
       "6         2.4  \n",
       "7         2.5  \n",
       "8         2.4  \n",
       "9         2.3  "
      ]
     },
     "execution_count": 187,
     "metadata": {},
     "output_type": "execute_result"
    }
   ],
   "source": [
    "def noaa_file_parser(filename):\n",
    "    file_content = open(filename, \"r\").read().split(\"\\n\")\n",
    "    # print(file_content)\n",
    "    year = int(file_content[0].split(\" \")[0])\n",
    "    day = int(file_content[0].split(\" \")[1])\n",
    "    hour = int(file_content[0].split(\" \")[2])\n",
    "    \n",
    "    l = []\n",
    "    for item in file_content[1:]:\n",
    "        tmp_l = item.split(\" \")\n",
    "        data_l = [i for i in tmp_l if i]\n",
    "        if len(data_l) != 4:\n",
    "            continue\n",
    "        grid_number = data_l[0]\n",
    "        wave_height = data_l[1]\n",
    "        wave_direction = data_l[2]\n",
    "        wave_period = data_l[3]\n",
    "        l.append((filename, year, day, hour, grid_number, wave_height, wave_direction, wave_period))\n",
    "    \n",
    "    df = pd.DataFrame(l, columns=[\"filename\", \"year\", \"day\", \"hour\", \"grid_number\", \"wave_height\", \"wave_direction\", \"wave_period\"])\n",
    "    return df \n",
    "\n",
    "file_grid_data = noaa_file_parser(filename='o202102506.0.wav')\n",
    "file_grid_data.head(10)"
   ]
  },
  {
   "cell_type": "code",
   "execution_count": 192,
   "metadata": {},
   "outputs": [
    {
     "name": "stdout",
     "output_type": "stream",
     "text": [
      "file_grid_data has 4476 rows\n"
     ]
    }
   ],
   "source": [
    "print(\"file_grid_data has {} rows\".format(file_grid_data.shape[0]))"
   ]
  },
  {
   "cell_type": "code",
   "execution_count": 194,
   "metadata": {},
   "outputs": [],
   "source": [
    "!open /Users/lichenxi/venv/xunlei_aduit/homework"
   ]
  },
  {
   "cell_type": "code",
   "execution_count": null,
   "metadata": {},
   "outputs": [],
   "source": []
  },
  {
   "cell_type": "code",
   "execution_count": null,
   "metadata": {},
   "outputs": [],
   "source": []
  }
 ],
 "metadata": {
  "kernelspec": {
   "display_name": "Python 3",
   "language": "python",
   "name": "python3"
  },
  "language_info": {
   "codemirror_mode": {
    "name": "ipython",
    "version": 3
   },
   "file_extension": ".py",
   "mimetype": "text/x-python",
   "name": "python",
   "nbconvert_exporter": "python",
   "pygments_lexer": "ipython3",
   "version": "3.6.1"
  }
 },
 "nbformat": 4,
 "nbformat_minor": 2
}
