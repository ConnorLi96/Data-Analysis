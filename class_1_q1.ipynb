{
 "cells": [
  {
   "cell_type": "markdown",
   "metadata": {},
   "source": [
    "# 写在开头：\n",
    "- 宝贝，Q1 的题目都弄完啦，说实话，这些题目给新手还是有些难度，嗯，感觉你们这门课，workload 还挺大的。所以让我们放下成见，好好学习最重要呢\n",
    "- 虽然答案我都写出来了，也有注释解释部分原理，但是中间数据的流转，方法的调用，涉及到的知识点对你这个完全 0 基础的新手，真的挺多的，我那天说要用 skype 给你讲，确实有心术不正的原因在。但客观的说，这些东西光靠文字是很难让你融会贯通的，一定要自己深入理解了才行！\n",
    "\n",
    "\n",
    "## 建议的学习方法：\n",
    "- 1. 自己调试每一行，每一个方法，看懂它的输出和报错，你才能真的把这些题目的实现方法弄明白了\n",
    "    - 比如 Question 1d，你可以这样调试\n",
    "    - 01: sf_salaries[sf_salaries[\"EmployeeName\"] == \"GREGORY STANGLAND\"] 看看它的输出\n",
    "    - 02：sf_salaries[sf_salaries[\"EmployeeName\"] == \"GREGORY STANGLAND\"].to_dict() 看看它的输出\n",
    "    - 03: sf_salaries[sf_salaries[\"EmployeeName\"] == \"GREGORY STANGLAND\"].to_dict(orient=\"record\") 看看它的输出\n",
    "    - 04: sf_salaries[sf_salaries[\"EmployeeName\"] == \"GREGORY STANGLAND\"].to_dict(orient=\"record\")[0] 看看它的输出\n",
    "    - 然后可以使用 type() 的方法来看它的类型，用法和 print() 类似，比如 type(sf_salaries)，放到括号里就行啦\n",
    "- 2. 学会查资料和看官方文档，比如 Question 1h，涉及到排序，那你就可以搜索， pandas 排序，然后找到 sort_values 这个方法的使用方式，然后自己尝试把它用对，得到想要的输出\n",
    "\n",
    "- 3. 真的要问呐！！感觉老师就是一口气给你们一大堆东西，然后剩下的交给你们自己解决了，答案大家也许都能写出来，但是能学到什么程度真的因人而异，这个里面涉及到的知识点延伸讲起来我真的可以给你讲一下午，所以你弄不明白的地方，真的得问，不为别的，就为把它学好，学扎实。\n",
    "\n",
    "- 4. 爱你"
   ]
  },
  {
   "cell_type": "code",
   "execution_count": 1,
   "metadata": {},
   "outputs": [],
   "source": [
    "import pandas as pd \n"
   ]
  },
  {
   "cell_type": "markdown",
   "metadata": {},
   "source": [
    "## Question 1a:"
   ]
  },
  {
   "cell_type": "code",
   "execution_count": 2,
   "metadata": {},
   "outputs": [
    {
     "name": "stderr",
     "output_type": "stream",
     "text": [
      "/Users/lichenxi/venv/lib/python3.6/site-packages/IPython/core/interactiveshell.py:2785: DtypeWarning: Columns (3,4,5,6,12) have mixed types. Specify dtype option on import or set low_memory=False.\n",
      "  interactivity=interactivity, compiler=compiler, result=result)\n"
     ]
    }
   ],
   "source": [
    "sf_salaries = pd.read_csv(\"/Users/lichenxi/Desktop/Salaries.csv\")"
   ]
  },
  {
   "cell_type": "code",
   "execution_count": null,
   "metadata": {},
   "outputs": [],
   "source": []
  },
  {
   "cell_type": "markdown",
   "metadata": {},
   "source": [
    "## Question 1b:"
   ]
  },
  {
   "cell_type": "code",
   "execution_count": 3,
   "metadata": {},
   "outputs": [
    {
     "name": "stdout",
     "output_type": "stream",
     "text": [
      "<class 'pandas.core.frame.DataFrame'>\n",
      "RangeIndex: 148654 entries, 0 to 148653\n",
      "Data columns (total 13 columns):\n",
      "Id                  148654 non-null int64\n",
      "EmployeeName        148654 non-null object\n",
      "JobTitle            148654 non-null object\n",
      "BasePay             148049 non-null object\n",
      "OvertimePay         148654 non-null object\n",
      "OtherPay            148654 non-null object\n",
      "Benefits            112495 non-null object\n",
      "TotalPay            148654 non-null float64\n",
      "TotalPayBenefits    148654 non-null float64\n",
      "Year                148654 non-null int64\n",
      "Notes               0 non-null float64\n",
      "Agency              148654 non-null object\n",
      "Status              38119 non-null object\n",
      "dtypes: float64(3), int64(2), object(8)\n",
      "memory usage: 14.7+ MB\n"
     ]
    }
   ],
   "source": [
    "sf_salaries.info()"
   ]
  },
  {
   "cell_type": "code",
   "execution_count": 4,
   "metadata": {},
   "outputs": [
    {
     "name": "stdout",
     "output_type": "stream",
     "text": [
      "Number of entries = 148654\n",
      "Number of columns = 13\n",
      "Unique Datatypes = float64, int64, object\n"
     ]
    }
   ],
   "source": [
    "# 题干说的是 分数基于你在下方打印的是啥子 所以我们要用 print \n",
    "# 以下是方法1: 硬编码，我们通过 .info() 这个方法得出结果，然后手写答案到代码里，打印出来\n",
    "print(\"Number of entries = 148654\")\n",
    "print(\"Number of columns = 13\")\n",
    "print(\"Unique Datatypes = float64, int64, object\")"
   ]
  },
  {
   "cell_type": "code",
   "execution_count": 36,
   "metadata": {},
   "outputs": [
    {
     "name": "stdout",
     "output_type": "stream",
     "text": [
      "Number of entries = 148654\n",
      "Number of columns = 13\n",
      "Unique Datatypes = float64, int64, object\n"
     ]
    }
   ],
   "source": [
    "# 以下是进阶的方法2: 赋值变量法，\n",
    "# 这种方法的好处在于，即使我们倒入另一个完全不同的 csv 文件，它也可以把需要的答案直接打印出来，不用自己再手动填写啦\n",
    "print(\"Number of entries = %s\"%len(sf_salaries))\n",
    "print(\"Number of columns = %s\"%len(sf_salaries.columns))\n",
    "print(\"Unique Datatypes = float64, int64, object\") \n",
    "# 这个目前还没找到好办法，只能先这么写了，不过写代码的时候我们应该尽量追求这种办法，提升程序的复用性"
   ]
  },
  {
   "cell_type": "markdown",
   "metadata": {},
   "source": [
    "## Question 1c:"
   ]
  },
  {
   "cell_type": "code",
   "execution_count": null,
   "metadata": {},
   "outputs": [],
   "source": []
  },
  {
   "cell_type": "code",
   "execution_count": null,
   "metadata": {},
   "outputs": [],
   "source": []
  },
  {
   "cell_type": "code",
   "execution_count": 65,
   "metadata": {},
   "outputs": [
    {
     "name": "stdout",
     "output_type": "stream",
     "text": [
      "Min base pay: -166.01\n",
      "Max base pay: 319275.01\n",
      "Mean base pay: 71323.8395736853\n"
     ]
    }
   ],
   "source": [
    "# 这个题目中，我在直接使用 np.mean 这个方法求平均数的时候，发现这一列有脏数据，导致我们无法直接求出 max, min, mean 所以我们需要先做预处理\n",
    "\n",
    "\n",
    "\n",
    "# 预处理 1 去除 nan 值，nan 值意味着没有数据，pandas 在处理空数据的时候，会用这个来表示\n",
    "base_pay_list_without_nan = sf_salaries[\"BasePay\"].dropna()\n",
    "\n",
    "\n",
    "\n",
    "# 预处理 2 去除字符串，字符串 str (全称 string) 是一种数据类型，就是文本，它是没有办法和数字做比较大小，求和的，所以我们要把它筛出去。\n",
    "base_pay_list = []\n",
    "for item in base_pay_list_without_nan:\n",
    "    if type(item) == str: \n",
    "        continue # 这里的意思是如果我们遇到了 str 类型的数据，循环直接 continue 进入下一次，不用执行后面的代码了。\n",
    "    base_pay_list.append(item) # 而当执行到这里的时候，我们就需要把真正符合我们要求的数据用 append() 加入到，上面我们定义的 base_pay_list list 里面。\n",
    "\n",
    "    \n",
    "    \n",
    "# 求结果\n",
    "base_pay_min = min(base_pay_list)\n",
    "base_pay_max = max(base_pay_list)\n",
    "base_pay_mean = np.mean(base_pay_list)\n",
    "\n",
    "print(\"Min base pay: {}\".format(base_pay_min))\n",
    "print(\"Max base pay: {}\".format(base_pay_max))\n",
    "print(\"Mean base pay: {}\".format(base_pay_mean))\n",
    "\n",
    "# btw，这里用的 format 和我上一题用 %s 方法是一个作用，记不记得我们刚在一起的时候，七夕情人节，我用了 7 种方法给你打印了《鹊桥仙·纤云弄巧》"
   ]
  },
  {
   "cell_type": "markdown",
   "metadata": {},
   "source": [
    "## Question 1d:"
   ]
  },
  {
   "cell_type": "code",
   "execution_count": 10,
   "metadata": {},
   "outputs": [
    {
     "name": "stdout",
     "output_type": "stream",
     "text": [
      "GREGORY STANGLAND total pay: FIRE FIGHTER PARAMEDIC\n",
      "GREGORY STANGLAND job title: 224439.97\n"
     ]
    }
   ],
   "source": [
    "# 这一条代码略长，涉及到知识点也比较多一点\n",
    "# 1. 筛选 sf_salaries[sf_salaries[\"EmployeeName\"] == \"GREGORY STANGLAND\"] 找出 EmployeeName 是 GREGORY STANGLAND 的所有记录，该表为一条\n",
    "# 2. to_dict 方法，dict 是一个数据结构，有着 key，value 的特性，可以直接索引到我们需要的 JobTitle 和 TotalPay\n",
    "# 3. [0] 因为 to_dict 结果是一个 list 所以我们需要把真正的 dict 取出来\n",
    "# 4. 建议的学习方法是 把这些步骤拆开来，一行一行的 run 一下，你才能懂里面究竟是啥，以及为啥要这样写。直接给你答案是木有意义的。\n",
    "\n",
    "GREGORY_STANGLAN_Dict = sf_salaries[sf_salaries[\"EmployeeName\"] == \"GREGORY STANGLAND\"].iloc[0]\n",
    "\n",
    "total_pay = GREGORY_STANGLAN_Dict[\"JobTitle\"]\n",
    "job_title = GREGORY_STANGLAN_Dict[\"TotalPay\"]\n",
    "\n",
    "print(\"GREGORY STANGLAND total pay: {}\".format(total_pay))\n",
    "print(\"GREGORY STANGLAND job title: {}\".format(job_title))"
   ]
  },
  {
   "cell_type": "markdown",
   "metadata": {},
   "source": [
    "## Question 1e:"
   ]
  },
  {
   "cell_type": "code",
   "execution_count": 11,
   "metadata": {},
   "outputs": [
    {
     "name": "stdout",
     "output_type": "stream",
     "text": [
      "Name: NATHANIEL FORD\n",
      "Year: 2011\n",
      "Total Pay: 567595.43\n"
     ]
    }
   ],
   "source": [
    "# 这一题和 1d 类似，都是通过条件筛选 然后取值，只是筛选条件不同，这里我们直接用 max(sf_salaries[\"TotalPay\"]) 就可以啦，其他都差不多 \n",
    "Highest_TotalPay_Dict = sf_salaries[sf_salaries[\"TotalPay\"] == max(sf_salaries[\"TotalPay\"])].iloc[0]\n",
    "\n",
    "name = Highest_TotalPay_Dict[\"EmployeeName\"]\n",
    "year = Highest_TotalPay_Dict[\"Year\"]\n",
    "total_pay = Highest_TotalPay_Dict[\"TotalPay\"]\n",
    "\n",
    "\n",
    "print(\"Name: {}\".format(name))\n",
    "print(\"Year: {}\".format(year))\n",
    "print(\"Total Pay: {}\".format(total_pay))\n"
   ]
  },
  {
   "cell_type": "code",
   "execution_count": 13,
   "metadata": {},
   "outputs": [
    {
     "data": {
      "text/plain": [
       "Year\n",
       "2011    567595.43\n",
       "2012    362844.66\n",
       "2013    347102.32\n",
       "2014    471952.64\n",
       "Name: TotalPay, dtype: float64"
      ]
     },
     "execution_count": 13,
     "metadata": {},
     "output_type": "execute_result"
    }
   ],
   "source": []
  },
  {
   "cell_type": "markdown",
   "metadata": {},
   "source": [
    "## Question 1f:"
   ]
  },
  {
   "cell_type": "code",
   "execution_count": 14,
   "metadata": {},
   "outputs": [
    {
     "name": "stdout",
     "output_type": "stream",
     "text": [
      "Year\n",
      "2011    567595.43\n",
      "2012    362844.66\n",
      "2013    347102.32\n",
      "2014    471952.64\n",
      "Name: TotalPay, dtype: float64\n"
     ]
    }
   ],
   "source": [
    "# 这一题提出了明确的数据格式的要求，“Series”，https://zhuanlan.zhihu.com/p/131553804 可以参考这个，其实就可以理解成表里的某一列\n",
    "\n",
    "max_annual_total_pay = sf_salaries.groupby(\"Year\")[\"TotalPay\"].agg(max)  \n",
    "print(max_annual_total_pay)"
   ]
  },
  {
   "cell_type": "markdown",
   "metadata": {},
   "source": [
    "## Question 1g:"
   ]
  },
  {
   "cell_type": "code",
   "execution_count": 112,
   "metadata": {},
   "outputs": [
    {
     "name": "stdout",
     "output_type": "stream",
     "text": [
      "Number of unique jobs: 2159\n"
     ]
    }
   ],
   "source": [
    "# 这一题比较简单，.unique() 这个方法就是去重，求出当前这一列所有的值\n",
    "unique_jobs = sf_salaries[\"JobTitle\"].unique()\n",
    "\n",
    "print(\"Number of unique jobs: {}\".format(len(unique_jobs)))# 然后这里加了一个 len，上面也用过，就是计数，算一下里面一共有多少个。\n"
   ]
  },
  {
   "cell_type": "markdown",
   "metadata": {},
   "source": [
    "## Question 1h:\n"
   ]
  },
  {
   "cell_type": "code",
   "execution_count": null,
   "metadata": {},
   "outputs": [],
   "source": []
  },
  {
   "cell_type": "code",
   "execution_count": 16,
   "metadata": {},
   "outputs": [
    {
     "name": "stdout",
     "output_type": "stream",
     "text": [
      "Transit Operator                7036\n",
      "Special Nurse                   4389\n",
      "Registered Nurse                3736\n",
      "Public Svc Aide-Public Works    2518\n",
      "Police Officer 3                2421\n",
      "Custodian                       2418\n",
      "TRANSIT OPERATOR                2388\n",
      "Firefighter                     2359\n",
      "Recreation Leader               1971\n",
      "Patient Care Assistant          1945\n",
      "Name: JobTitle, dtype: int64\n"
     ]
    }
   ],
   "source": [
    "top_10_job_count = sf_salaries[\"JobTitle\"].value_counts().head(10)\n",
    "\n",
    "print(top_10_job_count)"
   ]
  },
  {
   "cell_type": "code",
   "execution_count": 26,
   "metadata": {},
   "outputs": [
    {
     "data": {
      "text/plain": [
       "175"
      ]
     },
     "execution_count": 26,
     "metadata": {},
     "output_type": "execute_result"
    }
   ],
   "source": []
  },
  {
   "cell_type": "markdown",
   "metadata": {},
   "source": [
    "## Question 1i:"
   ]
  },
  {
   "cell_type": "code",
   "execution_count": 37,
   "metadata": {},
   "outputs": [
    {
     "name": "stdout",
     "output_type": "stream",
     "text": [
      "175\n"
     ]
    }
   ],
   "source": [
    "num_jobs_series = sf_salaries[sf_salaries[\"Year\"] == 2014][\"JobTitle\"].value_counts()\n",
    "num_jobs = num_jobs_series[num_jobs_series==1].agg(sum)\n",
    "        \n",
    "print(num_jobs)"
   ]
  },
  {
   "cell_type": "markdown",
   "metadata": {},
   "source": [
    "## Question 1j:"
   ]
  },
  {
   "cell_type": "code",
   "execution_count": 32,
   "metadata": {},
   "outputs": [
    {
     "name": "stdout",
     "output_type": "stream",
     "text": [
      "Number of jobs title containing the word Chief if 2013: 142.0\n"
     ]
    }
   ],
   "source": [
    "# 和上一题类似，不过涉及到新的知识点：字符串匹配\n",
    "def j1_func(input_string):\n",
    "    if \"Chief\" in input_string:\n",
    "        return 1\n",
    "    \n",
    "num_jobs_chief = sf_salaries[sf_salaries[\"Year\"]==2013][\"JobTitle\"].agg(j1_func).agg(sum)\n",
    "print(\"Number of jobs title containing the word Chief if 2013: {}\".format(num_jobs_chief))\n",
    "\n"
   ]
  },
  {
   "cell_type": "code",
   "execution_count": null,
   "metadata": {},
   "outputs": [],
   "source": []
  },
  {
   "cell_type": "code",
   "execution_count": null,
   "metadata": {},
   "outputs": [],
   "source": []
  },
  {
   "cell_type": "code",
   "execution_count": null,
   "metadata": {},
   "outputs": [],
   "source": []
  }
 ],
 "metadata": {
  "kernelspec": {
   "display_name": "Python 3",
   "language": "python",
   "name": "python3"
  },
  "language_info": {
   "codemirror_mode": {
    "name": "ipython",
    "version": 3
   },
   "file_extension": ".py",
   "mimetype": "text/x-python",
   "name": "python",
   "nbconvert_exporter": "python",
   "pygments_lexer": "ipython3",
   "version": "3.6.1"
  }
 },
 "nbformat": 4,
 "nbformat_minor": 2
}
