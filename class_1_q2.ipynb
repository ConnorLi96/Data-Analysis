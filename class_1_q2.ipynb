{
 "cells": [
  {
   "cell_type": "code",
   "execution_count": 18,
   "metadata": {},
   "outputs": [],
   "source": [
    "import pandas as pd "
   ]
  },
  {
   "cell_type": "code",
   "execution_count": 83,
   "metadata": {},
   "outputs": [],
   "source": [
    "winemag_reviews = pd.read_csv(\"/Users/lichenxi/Desktop/winemag_data.csv\", index_col=0)"
   ]
  },
  {
   "cell_type": "code",
   "execution_count": null,
   "metadata": {},
   "outputs": [],
   "source": []
  },
  {
   "cell_type": "markdown",
   "metadata": {},
   "source": [
    "# Q2a"
   ]
  },
  {
   "cell_type": "code",
   "execution_count": 91,
   "metadata": {},
   "outputs": [
    {
     "name": "stdout",
     "output_type": "stream",
     "text": [
      "@vossroger          25514\n",
      "@wineschach         15134\n",
      "@kerinokeefe        10776\n",
      "@vboone              9537\n",
      "@paulgwine           9532\n",
      "@mattkettmann        6332\n",
      "@JoeCz               5147\n",
      "@wawinereport        4966\n",
      "@gordone_cellars     4177\n",
      "@AnneInVino          3685\n",
      "@laurbuzz            1835\n",
      "@suskostrzewa        1085\n",
      "@worldwineguys       1005\n",
      "@bkfiona               27\n",
      "@winewchristina         6\n",
      "Name: taster_twitter_handle, dtype: int64\n"
     ]
    }
   ],
   "source": [
    "ans_2a = winemag_reviews[\"taster_twitter_handle\"].value_counts()\n",
    "print(ans_2a)"
   ]
  },
  {
   "cell_type": "code",
   "execution_count": null,
   "metadata": {},
   "outputs": [],
   "source": []
  },
  {
   "cell_type": "markdown",
   "metadata": {},
   "source": [
    "# Q 2b"
   ]
  },
  {
   "cell_type": "code",
   "execution_count": 96,
   "metadata": {},
   "outputs": [
    {
     "name": "stdout",
     "output_type": "stream",
     "text": [
      "price\n",
      "3300.0     88\n",
      "2500.0     96\n",
      "2013.0     91\n",
      "2000.0     97\n",
      "1900.0     98\n",
      "1500.0    100\n",
      "1300.0     96\n",
      "1200.0     96\n",
      "1125.0     94\n",
      "1100.0     97\n",
      "1000.0     97\n",
      "980.0      94\n",
      "973.0      95\n",
      "932.0      97\n",
      "900.0      94\n",
      "886.0      97\n",
      "850.0      99\n",
      "848.0     100\n",
      "820.0      96\n",
      "800.0      99\n",
      "790.0      87\n",
      "780.0      91\n",
      "775.0      98\n",
      "770.0      96\n",
      "767.0      96\n",
      "764.0      94\n",
      "757.0      98\n",
      "750.0      92\n",
      "710.0      95\n",
      "698.0      97\n",
      "         ... \n",
      "33.0       94\n",
      "32.0       96\n",
      "31.0       95\n",
      "30.0       96\n",
      "29.0       96\n",
      "28.0       96\n",
      "27.0       96\n",
      "26.0       95\n",
      "25.0       95\n",
      "24.0       95\n",
      "23.0       94\n",
      "22.0       95\n",
      "21.0       94\n",
      "20.0       96\n",
      "19.0       94\n",
      "18.0       94\n",
      "17.0       93\n",
      "16.0       94\n",
      "15.0       93\n",
      "14.0       94\n",
      "13.0       94\n",
      "12.0       93\n",
      "11.0       92\n",
      "10.0       91\n",
      "9.0        91\n",
      "8.0        91\n",
      "7.0        91\n",
      "6.0        88\n",
      "5.0        87\n",
      "4.0        86\n",
      "Name: points, Length: 390, dtype: int64\n"
     ]
    }
   ],
   "source": [
    "# 特定价格的最大 points 是多少？并以 price 做索引倒排\n",
    "price_max_points = winemag_reviews.groupby([\"price\"])[\"points\"].agg(max)\n",
    "price_max_points.sort_index(inplace=True,ascending=False)\n",
    "print(price_max_points)"
   ]
  },
  {
   "cell_type": "markdown",
   "metadata": {},
   "source": [
    "# 2c"
   ]
  },
  {
   "cell_type": "code",
   "execution_count": 97,
   "metadata": {},
   "outputs": [
    {
     "name": "stdout",
     "output_type": "stream",
     "text": [
      "13.199867662786314 % of reviews contains the word fruity or tart\n"
     ]
    }
   ],
   "source": [
    "f_a_count = []\n",
    "for description in winemag_reviews['description']:\n",
    "    if \"fruity\" in description or \"tart\" in description:\n",
    "        f_a_count.append(1)\n",
    "    else:\n",
    "        f_a_count.append(0)\n",
    "\n",
    "fruity_tart_percentage = sum(f_a_count) / len(winemag_reviews) * 100\n",
    "print('{} % of reviews contains the word fruity or tart'.format(fruity_tart_percentage))"
   ]
  },
  {
   "cell_type": "markdown",
   "metadata": {},
   "source": [
    "# 2d"
   ]
  },
  {
   "cell_type": "code",
   "execution_count": 98,
   "metadata": {},
   "outputs": [
    {
     "name": "stdout",
     "output_type": "stream",
     "text": [
      "country\n",
      "US                        7296\n",
      "France                    4194\n",
      "Portugal                  1274\n",
      "Italy                      913\n",
      "Spain                      552\n",
      "Germany                    527\n",
      "Austria                    453\n",
      "Chile                      422\n",
      "Argentina                  335\n",
      "Australia                  304\n",
      "New Zealand                209\n",
      "South Africa               201\n",
      "Greece                     144\n",
      "Israel                      66\n",
      "Hungary                     38\n",
      "England                     37\n",
      "Canada                      34\n",
      "Bulgaria                    27\n",
      "Romania                     15\n",
      "Turkey                      12\n",
      "Slovenia                    12\n",
      "Georgia                     12\n",
      "Uruguay                      9\n",
      "Brazil                       8\n",
      "Croatia                      8\n",
      "Lebanon                      8\n",
      "Morocco                      7\n",
      "Moldova                      7\n",
      "Macedonia                    6\n",
      "Mexico                       3\n",
      "Switzerland                  3\n",
      "Ukraine                      2\n",
      "Luxembourg                   2\n",
      "Czech Republic               1\n",
      "Cyprus                       1\n",
      "Armenia                      0\n",
      "Bosnia and Herzegovina       0\n",
      "India                        0\n",
      "Egypt                        0\n",
      "Slovakia                     0\n",
      "Peru                         0\n",
      "Serbia                       0\n",
      "China                        0\n",
      "Name: is_contain_fruity_tart, dtype: int64\n"
     ]
    }
   ],
   "source": [
    "winemag_reviews[\"is_contain_fruity_tart\"] = f_a_count\n",
    "fruity_tart_count_by_country = winemag_reviews.groupby([\"country\"])[\"is_contain_fruity_tart\"].agg(sum)\n",
    "fruity_tart_count_by_country.sort_values(inplace=True,ascending=False)\n",
    "print(fruity_tart_count_by_country)"
   ]
  },
  {
   "cell_type": "markdown",
   "metadata": {},
   "source": [
    "# 2e"
   ]
  },
  {
   "cell_type": "code",
   "execution_count": 99,
   "metadata": {},
   "outputs": [
    {
     "data": {
      "text/plain": [
       "country\n",
       "US                        257\n",
       "Italy                     189\n",
       "France                    148\n",
       "Spain                     125\n",
       "Portugal                   92\n",
       "Argentina                  67\n",
       "Australia                  67\n",
       "Chile                      63\n",
       "Austria                    56\n",
       "South Africa               56\n",
       "Israel                     48\n",
       "Greece                     45\n",
       "Germany                    34\n",
       "Canada                     31\n",
       "New Zealand                27\n",
       "Slovenia                   27\n",
       "Hungary                    24\n",
       "Turkey                     24\n",
       "Mexico                     23\n",
       "Bulgaria                   23\n",
       "Moldova                    22\n",
       "Croatia                    22\n",
       "Romania                    19\n",
       "Uruguay                    16\n",
       "Brazil                     14\n",
       "Georgia                    11\n",
       "Peru                       11\n",
       "Czech Republic              9\n",
       "Morocco                     8\n",
       "Ukraine                     8\n",
       "Macedonia                   8\n",
       "Serbia                      6\n",
       "Lebanon                     6\n",
       "Switzerland                 5\n",
       "England                     4\n",
       "Cyprus                      4\n",
       "Luxembourg                  4\n",
       "India                       3\n",
       "Armenia                     2\n",
       "Bosnia and Herzegovina      2\n",
       "China                       1\n",
       "Egypt                       1\n",
       "Slovakia                    1\n",
       "Name: variety, dtype: int64"
      ]
     },
     "execution_count": 99,
     "metadata": {},
     "output_type": "execute_result"
    }
   ],
   "source": [
    "\n",
    "country_varieties_count = winemag_reviews.groupby([\"country\"])[\"variety\"].unique().agg(len)\n",
    "country_varieties_count.sort_values(inplace=True,ascending=False)\n",
    "country_varieties_count"
   ]
  },
  {
   "cell_type": "markdown",
   "metadata": {},
   "source": [
    "# 2f\n"
   ]
  },
  {
   "cell_type": "code",
   "execution_count": 104,
   "metadata": {},
   "outputs": [
    {
     "data": {
      "text/plain": [
       "country     variety                   \n",
       "US          Pinot Noir                    9885\n",
       "            Cabernet Sauvignon            7315\n",
       "            Chardonnay                    6801\n",
       "France      Bordeaux-style Red Blend      4725\n",
       "Italy       Red Blend                     3624\n",
       "US          Syrah                         3244\n",
       "            Red Blend                     2972\n",
       "France      Chardonnay                    2808\n",
       "Italy       Nebbiolo                      2736\n",
       "US          Zinfandel                     2711\n",
       "Portugal    Portuguese Red                2466\n",
       "US          Merlot                        2311\n",
       "Italy       Sangiovese                    2265\n",
       "US          Sauvignon Blanc               2163\n",
       "France      Pinot Noir                    1966\n",
       "            Rosé                          1923\n",
       "US          Bordeaux-style Red Blend      1824\n",
       "Germany     Riesling                      1790\n",
       "US          Riesling                      1753\n",
       "Argentina   Malbec                        1510\n",
       "Spain       Tempranillo                   1429\n",
       "France      Champagne Blend               1243\n",
       "Austria     Grüner Veltliner              1234\n",
       "Portugal    Portuguese White              1159\n",
       "France      Bordeaux-style White Blend    1021\n",
       "            Gamay                         1020\n",
       "US          Cabernet Franc                1003\n",
       "France      Sauvignon Blanc                933\n",
       "US          Rosé                           907\n",
       "            Pinot Gris                     868\n",
       "                                          ... \n",
       "Italy       Bombino Nero                     1\n",
       "            Biancolella                      1\n",
       "            Biancale                         1\n",
       "            Albanello                        1\n",
       "Israel      White Riesling                   1\n",
       "            Syrah-Viognier                   1\n",
       "            Syrah-Merlot                     1\n",
       "            Sauvignon Blanc-Semillon         1\n",
       "Italy       Grenache                         1\n",
       "            Malvar                           1\n",
       "            Merlot-Cabernet                  1\n",
       "            Molinara                         1\n",
       "Macedonia   Chardonnay                       1\n",
       "Luxembourg  White Blend                      1\n",
       "            Auxerrois                        1\n",
       "Lebanon     Rhône-style Red Blend            1\n",
       "            Chardonnay                       1\n",
       "Italy       Vespaiolo                        1\n",
       "            Vermentino Nero                  1\n",
       "            Tintilia                         1\n",
       "            Teroldego Rotaliano              1\n",
       "            Tannat                           1\n",
       "            Sémillon                         1\n",
       "            Silvaner                         1\n",
       "            Roscetto                         1\n",
       "Uruguay     Tempranillo-Tannat               1\n",
       "Italy       Pignolo                          1\n",
       "            Muscat                           1\n",
       "            Moscato di Noto                  1\n",
       "Argentina   Barbera                          1\n",
       "Name: variety, Length: 1612, dtype: int64"
      ]
     },
     "execution_count": 104,
     "metadata": {},
     "output_type": "execute_result"
    }
   ],
   "source": [
    "country_varieties = winemag_reviews.groupby([\"country\", \"variety\"])[\"variety\"].agg(len)\n",
    "country_varieties.sort_values(inplace=True,ascending=False)\n",
    "country_varieties"
   ]
  }
 ],
 "metadata": {
  "kernelspec": {
   "display_name": "Python 3",
   "language": "python",
   "name": "python3"
  },
  "language_info": {
   "codemirror_mode": {
    "name": "ipython",
    "version": 3
   },
   "file_extension": ".py",
   "mimetype": "text/x-python",
   "name": "python",
   "nbconvert_exporter": "python",
   "pygments_lexer": "ipython3",
   "version": "3.6.1"
  }
 },
 "nbformat": 4,
 "nbformat_minor": 2
}
